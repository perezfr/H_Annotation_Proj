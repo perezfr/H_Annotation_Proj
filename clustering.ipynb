{
 "cells": [
  {
   "cell_type": "code",
   "execution_count": 1,
   "metadata": {
    "collapsed": false
   },
   "outputs": [],
   "source": [
    "%matplotlib inline\n",
    "import pandas as pd\n",
    "import requests\n",
    "import numpy as np\n",
    "from pandas.io.json import json_normalize\n",
    "import datetime\n",
    "import nltk\n",
    "import re\n",
    "import os\n",
    "import codecs\n",
    "from sklearn import feature_extraction\n",
    "import mpld3\n",
    "import matplotlib.pyplot as plt\n",
    "from sklearn.decomposition import PCA\n",
    "from sklearn.cluster import KMeans\n",
    "stopwords = nltk.corpus.stopwords.words('english')\n",
    "stemmer = nltk.stem.snowball.SnowballStemmer('english')"
   ]
  },
  {
   "cell_type": "code",
   "execution_count": 2,
   "metadata": {
    "collapsed": true
   },
   "outputs": [],
   "source": [
    "FMlinkList = {'August':'https://www.commonsense.org/education/privacy/blog/digital-redlining-access-privacy',\n",
    "        'September':'http://dmlcentral.net/speculative-design-for-emergent-learning-taking-risks/',\n",
    "        'October':'http://marginalsyllab.us/wp-content/uploads/2016/08/PWFlow-Intro.pdf',\n",
    "        'November':'https://helenbeetham.com/2016/11/14/ed-tech-and-the-circus-of-unreason/',\n",
    "        'January':'http://marginalsyllab.us/the-school-and-social-progress-by-john-dewey/',\n",
    "        'February':'http://marginalsyllab.us/preface-to-research-writing-rewired-lessons-that-ground-students-digital-learning-by-dawn-reed-and-troy-hicks/',\n",
    "        'FebruaryJCI':'http://cognitionandinstruction.com/engagements-the-learning-sciences-in-a-new-era-of-u-s-nationalism/',\n",
    "        'March':'https://www.colorlines.com/articles/how-can-white-teachers-do-better-urban-kids-color'}"
   ]
  },
  {
   "cell_type": "code",
   "execution_count": 4,
   "metadata": {
    "collapsed": true
   },
   "outputs": [
    {
     "name": "stdout",
     "output_type": "stream",
     "text": [
      "August\n",
      "https://www.commonsense.org/education/privacy/blog/digital-redlining-access-privacy\n",
      "Number of Records Found for this Session:  190\n",
      "Scraped:\n",
      "0\n",
      "20\n",
      "40\n",
      "60\n",
      "80\n",
      "100\n",
      "120\n",
      "140\n",
      "160\n",
      "180\n",
      "190\n",
      "March\n",
      "https://www.colorlines.com/articles/how-can-white-teachers-do-better-urban-kids-color\n",
      "Number of Records Found for this Session:  29\n",
      "Scraped:\n",
      "0\n",
      "20\n",
      "29\n",
      "February\n",
      "http://marginalsyllab.us/preface-to-research-writing-rewired-lessons-that-ground-students-digital-learning-by-dawn-reed-and-troy-hicks/\n",
      "Number of Records Found for this Session:  121\n",
      "Scraped:\n",
      "0\n",
      "20\n",
      "40\n",
      "60\n",
      "80\n",
      "100\n",
      "120\n",
      "121\n",
      "January\n",
      "http://marginalsyllab.us/the-school-and-social-progress-by-john-dewey/\n",
      "Number of Records Found for this Session:  242\n",
      "Scraped:\n",
      "0\n",
      "20\n",
      "40\n",
      "60\n",
      "80\n",
      "100\n",
      "120\n",
      "140\n",
      "160\n",
      "180\n",
      "200\n",
      "220\n",
      "240\n",
      "242\n",
      "September\n",
      "http://dmlcentral.net/speculative-design-for-emergent-learning-taking-risks/\n",
      "Number of Records Found for this Session:  87\n",
      "Scraped:\n",
      "0\n",
      "20\n",
      "40\n",
      "60\n",
      "80\n",
      "87\n",
      "November\n",
      "https://helenbeetham.com/2016/11/14/ed-tech-and-the-circus-of-unreason/\n",
      "Number of Records Found for this Session:  155\n",
      "Scraped:\n",
      "0\n",
      "20\n",
      "40\n",
      "60\n",
      "80\n",
      "100\n",
      "120\n",
      "140\n",
      "155\n",
      "FebruaryJCI\n",
      "http://cognitionandinstruction.com/engagements-the-learning-sciences-in-a-new-era-of-u-s-nationalism/\n",
      "Number of Records Found for this Session:  197\n",
      "Scraped:\n",
      "0\n",
      "20\n",
      "40\n",
      "60\n",
      "80\n",
      "100\n",
      "120\n",
      "140\n",
      "160\n",
      "180\n",
      "197\n",
      "October\n",
      "http://marginalsyllab.us/wp-content/uploads/2016/08/PWFlow-Intro.pdf\n",
      "Number of Records Found for this Session:  166\n",
      "Scraped:\n",
      "0\n",
      "20\n",
      "40\n",
      "60\n",
      "80\n",
      "100\n",
      "120\n",
      "140\n",
      "160\n",
      "166\n",
      "Total Records:  1187\n"
     ]
    }
   ],
   "source": [
    "##Create empty dataFrame, and append data scraped from annotation api\n",
    "dfAllupdate = pd.DataFrame(columns=['created','document.title','group','id','links.html',\n",
    "       'links.incontext','links.json','permissions.admin',\n",
    "       'permissions.delete','permissions.read','permissions.update',\n",
    "       'references','tags','target','text','updated','uri','user','session'])\n",
    "for session,link in FMlinkList.items():\n",
    "    df = scrapeAPI(session,link)\n",
    "    dfAllupdate = dfAllupdate.append(df)\n",
    "print('Total Records: ',len(dfAllupdate))"
   ]
  },
  {
   "cell_type": "code",
   "execution_count": 23,
   "metadata": {
    "collapsed": false
   },
   "outputs": [
    {
     "data": {
      "text/plain": [
       "2017-03-07 11:48:36.789289-07:00    None\n",
       "2017-03-07 11:47:15.703858-07:00    None\n",
       "2017-03-07 11:44:35.214900-07:00    None\n",
       "2017-03-07 11:03:22.711363-07:00    None\n",
       "2016-09-09 08:10:47.753416-06:00    None\n",
       "2016-09-06 18:40:00.337354-06:00    None\n",
       "2016-09-06 13:12:23.014221-06:00    None\n",
       "2016-09-06 10:30:15.777026-06:00    None\n",
       "2016-09-05 20:36:53.279708-06:00    None\n",
       "Name: text, dtype: object"
      ]
     },
     "execution_count": 23,
     "metadata": {},
     "output_type": "execute_result"
    }
   ],
   "source": [
    "totalvocab_stemmed = []\n",
    "totalvocab_tokenized = []\n",
    "textExtraction.ix[:9]['text'].map(lambda x: totalvocab_stemmed.extend(tokenize_and_stem(x)))\n",
    "textExtraction.ix[:9]['text'].map(lambda x: totalvocab_tokenized.extend(tokenize_only(x)))"
   ]
  },
  {
   "cell_type": "code",
   "execution_count": 12,
   "metadata": {
    "collapsed": true
   },
   "outputs": [],
   "source": [
    "def tokenize_and_stem(text):\n",
    "    # first tokenize by sentence, then by word to ensure that punctuation is caught as it's own token\n",
    "    tokens = [word for sent in nltk.sent_tokenize(text) for word in nltk.word_tokenize(sent)]\n",
    "    #return tokens\n",
    "    filtered_tokens = []\n",
    "    # filter out any tokens not containing letters (e.g., numeric tokens, raw punctuation)\n",
    "    for token in tokens:\n",
    "        if re.search('[a-zA-Z]', token):\n",
    "            filtered_tokens.append(token)\n",
    "    stems = [stemmer.stem(t) for t in filtered_tokens]\n",
    "    return stems\n",
    "\n",
    "def tokenize_only(text):\n",
    "    # first tokenize by sentence, then by word to ensure that punctuation is caught as it's own token\n",
    "    tokens = [word.lower() for sent in nltk.sent_tokenize(text) for word in nltk.word_tokenize(sent)]\n",
    "    filtered_tokens = []\n",
    "    # filter out any tokens not containing letters (e.g., numeric tokens, raw punctuation)\n",
    "    for token in tokens:\n",
    "        if re.search('[a-zA-Z]', token):\n",
    "            filtered_tokens.append(token)\n",
    "    return filtered_tokens"
   ]
  },
  {
   "cell_type": "code",
   "execution_count": 26,
   "metadata": {
    "collapsed": false
   },
   "outputs": [],
   "source": [
    "vocab_frame = pd.DataFrame({'words':totalvocab_tokenized},index=totalvocab_stemmed)"
   ]
  },
  {
   "cell_type": "code",
   "execution_count": 41,
   "metadata": {
    "collapsed": true
   },
   "outputs": [],
   "source": [
    "from sklearn.feature_extraction.text import TfidfVectorizer\n",
    "tfidf_vectorizer = TfidfVectorizer(max_df=0.9,max_features=200000,\n",
    "                                  min_df=0.1,stop_words='english',\n",
    "                                  use_idf=True,tokenizer=tokenize_and_stem,\n",
    "                                  ngram_range=(1,3))"
   ]
  },
  {
   "cell_type": "code",
   "execution_count": 42,
   "metadata": {
    "collapsed": false
   },
   "outputs": [],
   "source": [
    "tfidf_matrix = tfidf_vectorizer.fit_transform(textExtraction['text'])\n",
    "terms = tfidf_vectorizer.get_feature_names()"
   ]
  },
  {
   "cell_type": "code",
   "execution_count": 53,
   "metadata": {
    "collapsed": true
   },
   "outputs": [],
   "source": [
    "from sklearn.metrics.pairwise import cosine_similarity\n",
    "dist = 1 - cosine_similarity(tfidf_matrix)\n",
    "km = KMeans(n_clusters=5)\n",
    "km.fit(tfidf_matrix)\n",
    "clusters = km.labels_.tolist()"
   ]
  },
  {
   "cell_type": "code",
   "execution_count": null,
   "metadata": {
    "collapsed": true
   },
   "outputs": [],
   "source": []
  },
  {
   "cell_type": "code",
   "execution_count": 8,
   "metadata": {
    "collapsed": true
   },
   "outputs": [
    {
     "name": "stdout",
     "output_type": "stream",
     "text": [
      "Month:  August\n",
      "Total:  190\n",
      "Annotations:  53\n",
      "Replies:  137\n",
      "\n",
      "Month:  March\n",
      "Total:  29\n",
      "Annotations:  27\n",
      "Replies:  2\n",
      "\n",
      "Month:  February\n",
      "Total:  121\n",
      "Annotations:  43\n",
      "Replies:  78\n",
      "\n",
      "Month:  January\n",
      "Total:  242\n",
      "Annotations:  137\n",
      "Replies:  105\n",
      "\n",
      "Month:  September\n",
      "Total:  87\n",
      "Annotations:  36\n",
      "Replies:  51\n",
      "\n",
      "Month:  November\n",
      "Total:  155\n",
      "Annotations:  61\n",
      "Replies:  94\n",
      "\n",
      "Month:  FebruaryJCI\n",
      "Total:  197\n",
      "Annotations:  97\n",
      "Replies:  100\n",
      "\n",
      "Month:  October\n",
      "Total:  166\n",
      "Annotations:  103\n",
      "Replies:  63\n",
      "\n"
     ]
    }
   ],
   "source": [
    "textExtraction = pd.DataFrame(columns=['created','user','id','group','tags',\n",
    "                              'text','references','target'])\n",
    "for session in FMlinkList:\n",
    "    print('Month: ',session)\n",
    "    print('Total: ',len(dfAllupdate[dfAllupdate['session']==session]))\n",
    "    print('Annotations: ',len(dfAllupdate[(dfAllupdate['session']==session\n",
    "                                                  )&(dfAllupdate['references'].isnull())]))\n",
    "    print('Replies: ',len(dfAllupdate[(dfAllupdate['session']==session\n",
    "                                                  )&(dfAllupdate['references'].notnull())]))\n",
    "    print('')\n",
    "    reviewDataSet = dfAllupdate[dfAllupdate['session']==session\n",
    "                           ][['created','user','id','group','tags',\n",
    "                              'text','references','target']]\n",
    "    if session is 'October':\n",
    "        reviewDataSet['Anchor text'] = dfAllupdate[\n",
    "            dfAllupdate['session']==session]['target'].map(lambda x: extractJSONOct(x[0]))\n",
    "    else:\n",
    "        reviewDataSet['Anchor text'] = dfAllupdate[\n",
    "            dfAllupdate['session']==session]['target'].map(lambda x: extractJSON(x[0]))\n",
    "    reviewDataSet['created'] = reviewDataSet['created'].map(lambda x: x.strftime(\n",
    "            '%m/%d/%Y %H:%M'))\n",
    "    reviewDataSet['user'] = reviewDataSet['user'].str[5:].str[:-12]\n",
    "    textExtraction = textExtraction.append(reviewDataSet)"
   ]
  },
  {
   "cell_type": "code",
   "execution_count": 6,
   "metadata": {
    "collapsed": true
   },
   "outputs": [],
   "source": [
    "def scrapeAPI(session,uri):\n",
    "    n = 0\n",
    "    payload = {'url':uri}\n",
    "    r = requests.get('https://hypothes.is/api/search',params=payload)\n",
    "    df = pd.DataFrame(columns=['created', 'document.title', 'group', 'id', 'links.html',\n",
    "       'links.incontext', 'links.json', 'permissions.admin',\n",
    "       'permissions.delete', 'permissions.read', 'permissions.update',\n",
    "       'references', 'tags', 'target', 'text', 'updated', 'uri', 'user'])\n",
    "    total = r.json()['total']\n",
    "    print(session)\n",
    "    print(uri)\n",
    "    print('Number of Records Found for this Session: ',total)\n",
    "    print('Scraped:')\n",
    "    while n < total:\n",
    "        print(n)\n",
    "        df = df.append(json_normalize(r.json()['rows']))\n",
    "        n = len(df)\n",
    "        payload = {\n",
    "            'url':uri,\n",
    "            'offset':n}\n",
    "        r = requests.get('https://hypothes.is/api/search',params=payload)\n",
    "    print(n)\n",
    "    df['session'] = session\n",
    "    df['updated'] = pd.to_datetime(df['updated'])\n",
    "    df['created'] = pd.to_datetime(df['created'])\n",
    "    df = df.set_index(df['created'])\n",
    "    df.index = df.index.tz_localize('UTC').tz_convert('US/Mountain')\n",
    "    return df"
   ]
  },
  {
   "cell_type": "code",
   "execution_count": 5,
   "metadata": {
    "collapsed": true
   },
   "outputs": [],
   "source": [
    "#Finds anchor text 'exact' in json\n",
    "def extractJSONOct(row):#for Oct\n",
    "    if len(row) > 1:\n",
    "        return row['selector'][1]['exact']\n",
    "    else:\n",
    "        return np.NaN\n",
    "def extractJSON(row):#for months except Oct\n",
    "    if len(row) > 1:\n",
    "        return row['selector'][3]['exact']\n",
    "    else:\n",
    "        return np.NaN\n",
    "def findUser(ref):\n",
    "    #return dfAllupdate[dfAllupdate['id']==ref]['user'].str[5:].str[:-12][0]\n",
    "    if len(SNALinks[SNALinks['id'] == ref]) is 0:\n",
    "        return np.NaN\n",
    "    else:\n",
    "        return SNALinks[SNALinks['id']==ref]['user'].str[5:].str[:-12][0]"
   ]
  },
  {
   "cell_type": "code",
   "execution_count": 32,
   "metadata": {
    "collapsed": true
   },
   "outputs": [],
   "source": [
    "%matplotlib inline\n",
    "import pandas as pd\n",
    "from sklearn.cluster import KMeans\n",
    "import matplotlib.pyplot as plt\n",
    "import numpy as np"
   ]
  },
  {
   "cell_type": "code",
   "execution_count": 10,
   "metadata": {
    "collapsed": true
   },
   "outputs": [],
   "source": [
    "FebJCI = pd.read_pickle('032817_1432/FebruaryJCI/Table1.pkl')\n",
    "FebFM = pd.read_pickle('032417_1113/February/Table1.pkl')\n",
    "JanFM = pd.read_pickle('032417_1113/January/Table1.pkl')\n",
    "NovFM = pd.read_pickle('032417_1113/November/Table1.pkl')\n",
    "OctFM = pd.read_pickle('032417_1113/October/Table1.pkl')\n",
    "SepFM = pd.read_pickle('032417_1113/September/Table1.pkl')\n",
    "AugFM = pd.read_pickle('032417_1113/August/Table1.pkl')"
   ]
  },
  {
   "cell_type": "code",
   "execution_count": 18,
   "metadata": {
    "collapsed": false
   },
   "outputs": [],
   "source": [
    "FebFM = FebFM.append(FebJCI)\n",
    "FebFM = FebFM.append(JanFM)\n",
    "FebFM = FebFM.append(NovFM)\n",
    "FebFM = FebFM.append(OctFM)\n",
    "FebFM = FebFM.append(SepFM)\n",
    "FebFM = FebFM.append(AugFM)"
   ]
  },
  {
   "cell_type": "code",
   "execution_count": 39,
   "metadata": {
    "collapsed": true
   },
   "outputs": [
    {
     "data": {
      "text/plain": [
       "<matplotlib.collections.PathCollection at 0x7f93d404cbe0>"
      ]
     },
     "execution_count": 39,
     "metadata": {},
     "output_type": "execute_result"
    },
    {
     "data": {
      "image/png": "[encoded data removed]",
      "text/plain": [
       "<matplotlib.figure.Figure at 0x7f93d4060cc0>"
      ]
     },
     "metadata": {},
     "output_type": "display_data"
    }
   ],
   "source": [
    "#kmeans = KMeans(n_clusters=3).fit(FebFM[['annotations','replies']])\n",
    "colormap = np.array(['red','lime','blue','yellow'])\n",
    "plt.figure(figsize=(10,7))\n",
    "plt.ylabel('Replies')\n",
    "plt.xlabel('Annotations')\n",
    "#plt.scatter(FebFM['annotations'],FebFM['replies'],c=colormap[kmeans.labels_])\n",
    "plt.scatter(reduced_data[:,0],reduced_data[:,1],c=colormap[kmeans.labels_])"
   ]
  }
 ],
 "metadata": {
  "anaconda-cloud": {},
  "kernelspec": {
   "display_name": "Python [conda root]",
   "language": "python",
   "name": "conda-root-py"
  },
  "language_info": {
   "codemirror_mode": {
    "name": "ipython",
    "version": 3
   },
   "file_extension": ".py",
   "mimetype": "text/x-python",
   "name": "python",
   "nbconvert_exporter": "python",
   "pygments_lexer": "ipython3",
   "version": "3.5.2"
  }
 },
 "nbformat": 4,
 "nbformat_minor": 1
}
