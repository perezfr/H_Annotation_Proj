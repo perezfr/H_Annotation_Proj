{
 "cells": [
  {
   "cell_type": "code",
   "execution_count": 1,
   "metadata": {
    "collapsed": false
   },
   "outputs": [],
   "source": [
    "%matplotlib inline\n",
    "import pandas as pd\n",
    "import requests\n",
    "import numpy as np\n",
    "from pandas.io.json import json_normalize\n",
    "import datetime"
   ]
  },
  {
   "cell_type": "code",
   "execution_count": 2,
   "metadata": {
    "collapsed": true
   },
   "outputs": [],
   "source": [
    "##Dict of session:uri\n",
    "FMlinkList = {'August':'https://www.commonsense.org/education/privacy/blog/digital-redlining-access-privacy',\n",
    "        'September':'http://dmlcentral.net/speculative-design-for-emergent-learning-taking-risks/',\n",
    "        'October':'http://marginalsyllab.us/wp-content/uploads/2016/08/PWFlow-Intro.pdf',\n",
    "        'November':'https://helenbeetham.com/2016/11/14/ed-tech-and-the-circus-of-unreason/',\n",
    "        'January':'http://marginalsyllab.us/the-school-and-social-progress-by-john-dewey/',\n",
    "        'February':'http://marginalsyllab.us/preface-to-research-writing-rewired-lessons-that-ground-students-digital-learning-by-dawn-reed-and-troy-hicks/'}"
   ]
  },
  {
   "cell_type": "code",
   "execution_count": 4,
   "metadata": {
    "collapsed": true
   },
   "outputs": [
    {
     "name": "stdout",
     "output_type": "stream",
     "text": [
      "November\n",
      "https://helenbeetham.com/2016/11/14/ed-tech-and-the-circus-of-unreason/\n",
      "Number of Records Found for this Session:  155\n",
      "Scraped:\n",
      "0\n",
      "20\n",
      "40\n",
      "60\n",
      "80\n",
      "100\n",
      "120\n",
      "140\n",
      "155\n",
      "October\n",
      "http://marginalsyllab.us/wp-content/uploads/2016/08/PWFlow-Intro.pdf\n",
      "Number of Records Found for this Session:  166\n",
      "Scraped:\n",
      "0\n",
      "20\n",
      "40\n",
      "60\n",
      "80\n",
      "100\n",
      "120\n",
      "140\n",
      "160\n",
      "166\n",
      "September\n",
      "http://dmlcentral.net/speculative-design-for-emergent-learning-taking-risks/\n",
      "Number of Records Found for this Session:  87\n",
      "Scraped:\n",
      "0\n",
      "20\n",
      "40\n",
      "60\n",
      "80\n",
      "87\n",
      "August\n",
      "https://www.commonsense.org/education/privacy/blog/digital-redlining-access-privacy\n",
      "Number of Records Found for this Session:  190\n",
      "Scraped:\n",
      "0\n",
      "20\n",
      "40\n",
      "60\n",
      "80\n",
      "100\n",
      "120\n",
      "140\n",
      "160\n",
      "180\n",
      "190\n",
      "January\n",
      "http://marginalsyllab.us/the-school-and-social-progress-by-john-dewey/\n",
      "Number of Records Found for this Session:  242\n",
      "Scraped:\n",
      "0\n",
      "20\n",
      "40\n",
      "60\n",
      "80\n",
      "100\n",
      "120\n",
      "140\n",
      "160\n",
      "180\n",
      "200\n",
      "220\n",
      "240\n",
      "242\n",
      "February\n",
      "http://marginalsyllab.us/preface-to-research-writing-rewired-lessons-that-ground-students-digital-learning-by-dawn-reed-and-troy-hicks/\n",
      "Number of Records Found for this Session:  121\n",
      "Scraped:\n",
      "0\n",
      "20\n",
      "40\n",
      "60\n",
      "80\n",
      "100\n",
      "120\n",
      "121\n",
      "Total Records:  961\n"
     ]
    }
   ],
   "source": [
    "##Create empty dataFrame, and append data scraped from annotation api\n",
    "dfAllupdate = pd.DataFrame(columns=['created','document.title','group','id','links.html',\n",
    "       'links.incontext','links.json','permissions.admin',\n",
    "       'permissions.delete','permissions.read','permissions.update',\n",
    "       'references','tags','target','text','updated','uri','user','session'])\n",
    "for session,link in FMlinkList.items():\n",
    "    df = scrapeAPI(session,link)\n",
    "    dfAllupdate = dfAllupdate.append(df)\n",
    "print('Total Records: ',len(dfAllupdate))"
   ]
  },
  {
   "cell_type": "code",
   "execution_count": 36,
   "metadata": {
    "collapsed": true
   },
   "outputs": [
    {
     "name": "stdout",
     "output_type": "stream",
     "text": [
      "032217_2125\n",
      "032217_2125/November\n",
      "032217_2125/November/Table1.csv\n",
      "032217_2125/November/Table1.pkl\n",
      "032217_2125/November/Graph1.csv\n",
      "032217_2125/November/Graph1.pkl\n",
      "032217_2125/November/Graph3.csv\n",
      "032217_2125/November/Graph3.pkl\n",
      "032217_2125/November/graphEntireConversation.csv\n",
      "032217_2125/November/graphEntireConversation.pkl\n",
      "032217_2125/October\n",
      "032217_2125/October/Table1.csv\n",
      "032217_2125/October/Table1.pkl\n",
      "032217_2125/October/Graph1.csv\n",
      "032217_2125/October/Graph1.pkl\n",
      "032217_2125/October/Graph3.csv\n",
      "032217_2125/October/Graph3.pkl\n",
      "032217_2125/October/graphEntireConversation.csv\n",
      "032217_2125/October/graphEntireConversation.pkl\n",
      "032217_2125/September\n",
      "032217_2125/September/Table1.csv\n",
      "032217_2125/September/Table1.pkl\n",
      "032217_2125/September/Graph1.csv\n",
      "032217_2125/September/Graph1.pkl\n",
      "032217_2125/September/Graph3.csv\n",
      "032217_2125/September/Graph3.pkl\n",
      "032217_2125/September/graphEntireConversation.csv\n",
      "032217_2125/September/graphEntireConversation.pkl\n",
      "032217_2125/August\n",
      "032217_2125/August/Table1.csv\n",
      "032217_2125/August/Table1.pkl\n",
      "032217_2125/August/Graph1.csv\n",
      "032217_2125/August/Graph1.pkl\n",
      "032217_2125/August/Graph3.csv\n",
      "032217_2125/August/Graph3.pkl\n",
      "032217_2125/August/graphEntireConversation.csv\n",
      "032217_2125/August/graphEntireConversation.pkl\n",
      "032217_2125/January\n",
      "032217_2125/January/Table1.csv\n",
      "032217_2125/January/Table1.pkl\n",
      "032217_2125/January/Graph1.csv\n",
      "032217_2125/January/Graph1.pkl\n",
      "032217_2125/January/Graph3.csv\n",
      "032217_2125/January/Graph3.pkl\n",
      "032217_2125/January/graphEntireConversation.csv\n",
      "032217_2125/January/graphEntireConversation.pkl\n",
      "032217_2125/February\n",
      "032217_2125/February/Table1.csv\n",
      "032217_2125/February/Table1.pkl\n",
      "032217_2125/February/Graph1.csv\n",
      "032217_2125/February/Graph1.pkl\n",
      "032217_2125/February/Graph3.csv\n",
      "032217_2125/February/Graph3.pkl\n",
      "032217_2125/February/graphEntireConversation.csv\n",
      "032217_2125/February/graphEntireConversation.pkl\n"
     ]
    }
   ],
   "source": [
    "dateNow = datetime.datetime.now().strftime('%m%d%y_%H%M')\n",
    "print(dateNow)\n",
    "!mkdir $dateNow\n",
    "for session in FMlinkList:\n",
    "    Table1 = pd.DataFrame(index=list(dfAllupdate[dfAllupdate['session'] == session\n",
    "                                            ].drop_duplicates('user')['user']))\n",
    "    Table1['annotations'] = dfAllupdate[(dfAllupdate['session'] == session)&\n",
    "                                (dfAllupdate['references'].isnull())\n",
    "                               ].groupby('user').size()\n",
    "    Table1['replies'] = dfAllupdate[(dfAllupdate['session'] == session)&\n",
    "                                (~dfAllupdate['references'].isnull())\n",
    "                               ].groupby('user').size()\n",
    "    Table1.fillna(0,inplace=True)\n",
    "    Table1.index = Table1.index.str[5:].str[:-12]\n",
    "    Table1['total'] = Table1['replies'] + Table1['annotations']\n",
    "    Table1.name = 'Table1'\n",
    "    Graph1 = Table1.T\n",
    "    Graph1.name = 'Graph1'\n",
    "    \n",
    "    Graph3 = dfAllupdate[(dfAllupdate['session'] == 'August')\n",
    "                                ].groupby([pd.TimeGrouper('15T'),'user']\n",
    "                                         ).size().to_frame()\n",
    "    Graph3.reset_index(level='user',inplace=True)\n",
    "    Graph3 = pd.pivot_table(Graph3,columns='user',values=0,\n",
    "                                         index=pd.Grouper(freq='15T'),fill_value=0)\n",
    "    Graph3 = Graph3.rename(columns=lambda x: x[5:][:-12])\n",
    "    Graph3.name = 'Graph3'\n",
    "\n",
    "    graphEntireConversation = dfAllupdate[(dfAllupdate['session'] == session)\n",
    "                                ].groupby([pd.TimeGrouper('D'),'user']).size().to_frame()\n",
    "    graphEntireConversation.reset_index(level='user',inplace=True)\n",
    "    graphEntireConversation['Total'] = graphEntireConversation.sum(axis=1)\n",
    "    graphEntireConversation = pd.pivot_table(graphEntireConversation,columns='user',values=0,\n",
    "                                         index=pd.Grouper(freq='D'),fill_value=0)\n",
    "    graphEntireConversation = graphEntireConversation.rename(columns=lambda x: x[5:][:-12])\n",
    "    graphEntireConversation['Total'] = graphEntireConversation.sum(axis=1)\n",
    "    graphEntireConversation.name = 'graphEntireConversation'\n",
    "    \n",
    "    sessionDir = dateNow + '/' + session\n",
    "    saveList = [Table1,Graph1,Graph3,graphEntireConversation]\n",
    "    !mkdir $sessionDir\n",
    "    print(sessionDir)\n",
    "    for file in saveList:\n",
    "        print(sessionDir + '/' + file.name + '.csv')\n",
    "        print(sessionDir + '/' + file.name + '.pkl')\n",
    "        file.to_csv(sessionDir + '/' + file.name + '.csv')\n",
    "        file.to_pickle(sessionDir + '/' + file.name + '.pkl')"
   ]
  },
  {
   "cell_type": "code",
   "execution_count": 214,
   "metadata": {
    "collapsed": true
   },
   "outputs": [
    {
     "data": {
      "text/plain": [
       "<matplotlib.axes._subplots.AxesSubplot at 0x7fd03c540588>"
      ]
     },
     "execution_count": 214,
     "metadata": {},
     "output_type": "execute_result"
    },
    {
     "data": {
      "image/png": "[encoded data removed]",
      "text/plain": [
       "<matplotlib.figure.Figure at 0x7fd03caef630>"
      ]
     },
     "metadata": {},
     "output_type": "display_data"
    }
   ],
   "source": [
    "tmp4 = pd.read_pickle('032217_1353/February/graphEntireConversation.pkl')\n",
    "tmp['Total'].plot(legend=False,figsize=(10,10))\n",
    "tmp2['Total'].plot(legend=False,figsize=(10,10))\n",
    "tmp3['Total'].plot(legend=False,figsize=(10,10))\n",
    "tmp4['Total'].plot(legend=False,figsize=(10,10))"
   ]
  },
  {
   "cell_type": "code",
   "execution_count": 122,
   "metadata": {
    "collapsed": true
   },
   "outputs": [],
   "source": [
    "users.to_excel('data/users.xlsx',sheet_name='nodes',index=False)"
   ]
  },
  {
   "cell_type": "code",
   "execution_count": 3,
   "metadata": {
    "collapsed": false
   },
   "outputs": [],
   "source": [
    "def scrapeAPI(session,uri):\n",
    "    n = 0\n",
    "    payload = {'url':uri}\n",
    "    r = requests.get('https://hypothes.is/api/search',params=payload)\n",
    "    df = pd.DataFrame(columns=['created', 'document.title', 'group', 'id', 'links.html',\n",
    "       'links.incontext', 'links.json', 'permissions.admin',\n",
    "       'permissions.delete', 'permissions.read', 'permissions.update',\n",
    "       'references', 'tags', 'target', 'text', 'updated', 'uri', 'user'])\n",
    "    total = r.json()['total']\n",
    "    print(session)\n",
    "    print(uri)\n",
    "    print('Number of Records Found for this Session: ',total)\n",
    "    print('Scraped:')\n",
    "    while n < total:\n",
    "        print(n)\n",
    "        df = df.append(json_normalize(r.json()['rows']))\n",
    "        n = len(df)\n",
    "        payload = {\n",
    "            'url':uri,\n",
    "            'offset':n}\n",
    "        r = requests.get('https://hypothes.is/api/search',params=payload)\n",
    "    print(n)\n",
    "    df['session'] = session\n",
    "    df['updated'] = pd.to_datetime(df['updated'])\n",
    "    df['created'] = pd.to_datetime(df['created'])\n",
    "    df = df.set_index(df['created'])\n",
    "    df.index = df.index.tz_localize('UTC').tz_convert('US/Mountain')\n",
    "    return df"
   ]
  },
  {
   "cell_type": "code",
   "execution_count": 21,
   "metadata": {
    "collapsed": true
   },
   "outputs": [],
   "source": [
    "#To find first and last in a session\n",
    "print(dfAllupdate[dfAllupdate['session'] == 'September'].nsmallest(1,'created')[['id','user']])\n",
    "print(dfAllupdate[dfAllupdate['session'] == 'September'].nlargest(1,'created')[['id','user']])\n",
    "##For the created/updated bug in API\n",
    "updatedAnnotationCounts = [(len(dfAllupdate[(dfAllupdate['session'] == 'August')]),\n",
    "                          len(dfAllupdate[(dfAllupdate['session'] == 'August')&\n",
    "      (dfAllupdate['updated'] - dfAllupdate['created']\n",
    "       > pd.Timedelta(1,unit='s'))]))]\n",
    "Graph2 = pd.DataFrame(data=updatedAnnotationCounts,columns=['annotations','updated'])\n",
    "Graph2 = Graph2.T\n",
    "Graph2.rename(columns={0:'August'},inplace=True)\n",
    "Graph2.plot.pie(y='August')\n",
    "Graph2.to_csv('data/Graph2.csv')\n",
    "Graph2.to_pickle('data/Graph2.pkl')"
   ]
  }
 ],
 "metadata": {
  "anaconda-cloud": {},
  "kernelspec": {
   "display_name": "Python [conda root]",
   "language": "python",
   "name": "conda-root-py"
  },
  "language_info": {
   "codemirror_mode": {
    "name": "ipython",
    "version": 3
   },
   "file_extension": ".py",
   "mimetype": "text/x-python",
   "name": "python",
   "nbconvert_exporter": "python",
   "pygments_lexer": "ipython3",
   "version": "3.5.2"
  }
 },
 "nbformat": 4,
 "nbformat_minor": 1
}
