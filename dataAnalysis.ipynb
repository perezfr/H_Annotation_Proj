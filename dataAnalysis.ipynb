{
 "cells": [
  {
   "cell_type": "code",
   "execution_count": 1,
   "metadata": {
    "collapsed": true
   },
   "outputs": [],
   "source": [
    "%matplotlib inline\n",
    "import pandas as pd\n",
    "import requests\n",
    "import numpy as np\n",
    "from pandas.io.json import json_normalize\n",
    "import datetime"
   ]
  },
  {
   "cell_type": "code",
   "execution_count": 6,
   "metadata": {
    "collapsed": false
   },
   "outputs": [],
   "source": [
    "##Dict of session:uri\n",
    "FMlinkList = {'August':'https://www.commonsense.org/education/privacy/blog/digital-redlining-access-privacy',\n",
    "        'September':'http://dmlcentral.net/speculative-design-for-emergent-learning-taking-risks/',\n",
    "        'October':'http://marginalsyllab.us/wp-content/uploads/2016/08/PWFlow-Intro.pdf',\n",
    "        'November':'https://helenbeetham.com/2016/11/14/ed-tech-and-the-circus-of-unreason/',\n",
    "        'January':'http://marginalsyllab.us/the-school-and-social-progress-by-john-dewey/',\n",
    "        'February':'http://marginalsyllab.us/preface-to-research-writing-rewired-lessons-that-ground-students-digital-learning-by-dawn-reed-and-troy-hicks/',\n",
    "        'FebruaryJCI':'http://cognitionandinstruction.com/engagements-the-learning-sciences-in-a-new-era-of-u-s-nationalism/',\n",
    "        'March':'https://www.colorlines.com/articles/how-can-white-teachers-do-better-urban-kids-color',\n",
    "        'April':'http://educatorinnovator.org/between-storytelling-and-surveillance-the-precarious-public-of-american-muslim-youth/'}"
   ]
  },
  {
   "cell_type": "code",
   "execution_count": 9,
   "metadata": {
    "collapsed": true
   },
   "outputs": [
    {
     "name": "stdout",
     "output_type": "stream",
     "text": [
      "April\n",
      "http://educatorinnovator.org/between-storytelling-and-surveillance-the-precarious-public-of-american-muslim-youth/\n",
      "Number of Records Found for this Session:  71\n",
      "Scraped:\n",
      "0\n",
      "20\n",
      "40\n",
      "60\n",
      "71\n",
      "March\n",
      "https://www.colorlines.com/articles/how-can-white-teachers-do-better-urban-kids-color\n",
      "Number of Records Found for this Session:  42\n",
      "Scraped:\n",
      "0\n",
      "20\n",
      "40\n",
      "42\n",
      "Total Records:  113\n"
     ]
    }
   ],
   "source": [
    "##Create empty dataFrame, and append data with the def scrapeAPI()\n",
    "dfAllupdate = pd.DataFrame(columns=['created','document.title','group','id','links.html',\n",
    "       'links.incontext','links.json','permissions.admin',\n",
    "       'permissions.delete','permissions.read','permissions.update',\n",
    "       'references','tags','target','text','updated','uri','user','session'])\n",
    "for session,link in FMlinkList.items():\n",
    "    df = scrapeAPI(session,link)\n",
    "    dfAllupdate = dfAllupdate.append(df)\n",
    "print('Total Records: ',len(dfAllupdate))"
   ]
  },
  {
   "cell_type": "code",
   "execution_count": 21,
   "metadata": {
    "collapsed": true
   },
   "outputs": [
    {
     "name": "stdout",
     "output_type": "stream",
     "text": [
      "052917_1620\n",
      "Month:  April\n",
      "Total:  71\n",
      "Annotations:  42\n",
      "Replies:  29\n",
      "\n",
      "Month:  March\n",
      "Total:  42\n",
      "Annotations:  32\n",
      "Replies:  10\n",
      "\n"
     ]
    }
   ],
   "source": [
    "dateNow = datetime.datetime.now().strftime('%m%d%y_%H%M')\n",
    "print(dateNow)\n",
    "!mkdir $dateNow\n",
    "#Build Excel sheet for onodo.org visualization\n",
    "for session in FMlinkList:\n",
    "    print('Month: ',session)\n",
    "    print('Total: ',len(dfAllupdate[dfAllupdate['session']==session]))\n",
    "    print('Annotations: ',len(dfAllupdate[(dfAllupdate['session']==session\n",
    "                                                  )&(dfAllupdate['references'].isnull())]))\n",
    "    print('Replies: ',len(dfAllupdate[(dfAllupdate['session']==session\n",
    "                                                  )&(dfAllupdate['references'].notnull())]))\n",
    "    print('')\n",
    "    SNAnodes = dfAllupdate[dfAllupdate['session']==session].drop_duplicates(\n",
    "        'user')['user'].str[5:].str[:-12].to_frame()\n",
    "    SNAnodes.reset_index(inplace=True,drop=True)\n",
    "    SNAnodes.rename(columns={'user':'Name'},inplace=True)\n",
    "    \n",
    "    reviewDataSet = dfAllupdate[dfAllupdate['session']==session\n",
    "                           ][['created','user','id','group','tags',\n",
    "                              'text','references','target']]\n",
    "    if session is 'October':\n",
    "        reviewDataSet['Anchor text'] = dfAllupdate[\n",
    "            dfAllupdate['session']==session]['target'].map(lambda x: extractJSONOct(x[0]))\n",
    "    else:\n",
    "        reviewDataSet['Anchor text'] = dfAllupdate[\n",
    "            dfAllupdate['session']==session]['target'].map(lambda x: extractJSON(x[0]))\n",
    "    reviewDataSet['Parent'] = np.where(reviewDataSet['references'].isnull(),True,False)\n",
    "    reviewDataSet['Child'] = np.where(reviewDataSet['references'].notnull(),True,False)\n",
    "    reviewDataSet['created'] = reviewDataSet['created'].map(lambda x: x.strftime(\n",
    "            '%m/%d/%Y %H:%M'))\n",
    "    reviewDataSet['user'] = reviewDataSet['user'].str[5:].str[:-12]\n",
    "    \n",
    "    SNALinks = dfAllupdate[dfAllupdate['session']==session][['id','user','references']]\n",
    "    SNALinks['Target'] = SNALinks['references'].map(\n",
    "        lambda x: findUser(x[-1]),na_action='ignore')\n",
    "    SNALinks['Target'].fillna('Text',inplace=True)\n",
    "    SNALinks['Source'] = SNALinks['user'].str[5:].str[:-12]\n",
    "    SNALinks['Type'] = np.where(SNALinks['Target']=='Text','annotation','reply')\n",
    "    SNALinks['Directed'] = 1\n",
    "    sessionDir = dateNow + '/' + session\n",
    "    !mkdir $sessionDir\n",
    "    writer = pd.ExcelWriter(sessionDir+'/MarginalSyllabus'+session+'.xlsx')\n",
    "    SNAnodes.to_excel(writer,sheet_name='nodes',index=False)\n",
    "    SNALinks[['Source','Type','Target','Directed']].to_excel(writer,sheet_name='Relations',index=False)\n",
    "    reviewDataSet[['created','user','id','group',\n",
    "                   'tags','Anchor text','text',\n",
    "                   'Parent','Child']].to_excel(writer,sheet_name='DataReview',index=False)\n",
    "    writer.save()"
   ]
  },
  {
   "cell_type": "code",
   "execution_count": 10,
   "metadata": {
    "collapsed": true
   },
   "outputs": [
    {
     "name": "stdout",
     "output_type": "stream",
     "text": [
      "052917_1321\n",
      "052917_1321/April\n",
      "052917_1321/April/Table1.csv\n",
      "052917_1321/April/Table1.pkl\n",
      "052917_1321/April/Graph1.csv\n",
      "052917_1321/April/Graph1.pkl\n",
      "052917_1321/April/Graph3.csv\n",
      "052917_1321/April/Graph3.pkl\n",
      "052917_1321/April/graphEntireConversation.csv\n",
      "052917_1321/April/graphEntireConversation.pkl\n",
      "052917_1321/March\n",
      "052917_1321/March/Table1.csv\n",
      "052917_1321/March/Table1.pkl\n",
      "052917_1321/March/Graph1.csv\n",
      "052917_1321/March/Graph1.pkl\n",
      "052917_1321/March/Graph3.csv\n",
      "052917_1321/March/Graph3.pkl\n",
      "052917_1321/March/graphEntireConversation.csv\n",
      "052917_1321/March/graphEntireConversation.pkl\n"
     ]
    }
   ],
   "source": [
    "dateNow = datetime.datetime.now().strftime('%m%d%y_%H%M')\n",
    "print(dateNow)\n",
    "!mkdir $dateNow\n",
    "#Build the Graphs and tables for the GDrive\n",
    "for session in FMlinkList:\n",
    "    Table1 = pd.DataFrame(index=list(dfAllupdate[dfAllupdate['session'] == session\n",
    "                                            ].drop_duplicates('user')['user']))\n",
    "    Table1['annotations'] = dfAllupdate[(dfAllupdate['session'] == session)&\n",
    "                                (dfAllupdate['references'].isnull())\n",
    "                               ].groupby('user').size()\n",
    "    Table1['replies'] = dfAllupdate[(dfAllupdate['session'] == session)&\n",
    "                                (~dfAllupdate['references'].isnull())\n",
    "                               ].groupby('user').size()\n",
    "    Table1.fillna(0,inplace=True)\n",
    "    Table1.index = Table1.index.str[5:].str[:-12]\n",
    "    Table1['total'] = Table1['replies'] + Table1['annotations']\n",
    "    Table1.name = 'Table1'\n",
    "    Graph1 = Table1.T\n",
    "    Graph1.name = 'Graph1'\n",
    "    \n",
    "    Graph3 = dfAllupdate[(dfAllupdate['session'] == session)\n",
    "                                ].groupby([pd.TimeGrouper('15T'),'user']).size().to_frame()\n",
    "    Graph3.reset_index(level='user',inplace=True)\n",
    "    Graph3 = pd.pivot_table(Graph3,columns='user',values=0,\n",
    "                                         index=pd.Grouper(freq='15T'),fill_value=0)\n",
    "    Graph3 = Graph3.rename(columns=lambda x: x[5:][:-12])\n",
    "    Graph3.name = 'Graph3'\n",
    "\n",
    "    graphEntireConversation = dfAllupdate[(dfAllupdate['session'] == session)\n",
    "                                ].groupby([pd.TimeGrouper('D'),'user']).size().to_frame()\n",
    "    graphEntireConversation.reset_index(level='user',inplace=True)\n",
    "    graphEntireConversation['Total'] = graphEntireConversation.sum(axis=1)\n",
    "    graphEntireConversation = pd.pivot_table(graphEntireConversation,columns='user',values=0,\n",
    "                                         index=pd.Grouper(freq='D'),fill_value=0)\n",
    "    graphEntireConversation = graphEntireConversation.rename(columns=lambda x: x[5:][:-12])\n",
    "    graphEntireConversation['Total'] = graphEntireConversation.sum(axis=1)\n",
    "    graphEntireConversation.name = 'graphEntireConversation'\n",
    "    \n",
    "    sessionDir = dateNow + '/' + session\n",
    "    saveList = [Table1,Graph1,Graph3,graphEntireConversation]\n",
    "    !mkdir $sessionDir\n",
    "    print(sessionDir)\n",
    "    for file in saveList:\n",
    "        print(sessionDir + '/' + file.name + '.csv')\n",
    "        print(sessionDir + '/' + file.name + '.pkl')\n",
    "        file.to_csv(sessionDir + '/' + file.name + '.csv')\n",
    "        file.to_pickle(sessionDir + '/' + file.name + '.pkl')"
   ]
  },
  {
   "cell_type": "code",
   "execution_count": 11,
   "metadata": {
    "collapsed": true
   },
   "outputs": [
    {
     "name": "stdout",
     "output_type": "stream",
     "text": [
      "month:\t\t April\n",
      "revisions:\t 23\n",
      "total:\t\t 71\n",
      "percent:\t 32.3943661971831\n",
      "\n",
      "month:\t\t March\n",
      "revisions:\t 3\n",
      "total:\t\t 42\n",
      "percent:\t 7.142857142857142\n",
      "\n"
     ]
    }
   ],
   "source": [
    "#Monthly Annotations, revisions and percentage of each\n",
    "#Only prints values\n",
    "for revMonth in FMlinkList:\n",
    "    revisions = len(dfAllupdate[(dfAllupdate['session'] == revMonth)&\n",
    "          (dfAllupdate['updated'] - dfAllupdate['created'] > pd.Timedelta(1,unit='s'))])\n",
    "    totalAnnotations = len(dfAllupdate[dfAllupdate['session'] == revMonth])\n",
    "    revPercent = (revisions / totalAnnotations) * 100\n",
    "    print('month:\\t\\t',revMonth)\n",
    "    print('revisions:\\t',revisions)\n",
    "    print('total:\\t\\t',totalAnnotations)\n",
    "    print('percent:\\t',revPercent)\n",
    "    print('')"
   ]
  },
  {
   "cell_type": "code",
   "execution_count": 19,
   "metadata": {
    "collapsed": true
   },
   "outputs": [],
   "source": [
    "#Finds anchor text 'exact' in json, Oct JSON blob is different\n",
    "def extractJSONOct(row):#for Oct\n",
    "    if len(row) > 1:\n",
    "        return row['selector'][1]['exact']\n",
    "    else:\n",
    "        return np.NaN\n",
    "def extractJSON(row):#for months except Oct\n",
    "    if len(row) > 1:\n",
    "        return row['selector'][3]['exact']\n",
    "    else:\n",
    "        return np.NaN\n",
    "def findUser(ref):\n",
    "    #return dfAllupdate[dfAllupdate['id']==ref]['user'].str[5:].str[:-12][0]\n",
    "    if len(SNALinks[SNALinks['id'] == ref]) is 0:\n",
    "        return np.NaN\n",
    "    else:\n",
    "        return SNALinks[SNALinks['id']==ref]['user'].str[5:].str[:-12][0]"
   ]
  },
  {
   "cell_type": "code",
   "execution_count": 4,
   "metadata": {
    "collapsed": true
   },
   "outputs": [],
   "source": [
    "#Build dataframe from hypothes.is API\n",
    "def scrapeAPI(session,uri):\n",
    "    n = 0\n",
    "    payload = {'url':uri}\n",
    "    r = requests.get('https://hypothes.is/api/search',params=payload)\n",
    "    df = pd.DataFrame(columns=['created', 'document.title', 'group', 'id', 'links.html',\n",
    "       'links.incontext', 'links.json', 'permissions.admin',\n",
    "       'permissions.delete', 'permissions.read', 'permissions.update',\n",
    "       'references', 'tags', 'target', 'text', 'updated', 'uri', 'user'])\n",
    "    total = r.json()['total']\n",
    "    print(session)\n",
    "    print(uri)\n",
    "    print('Number of Records Found for this Session: ',total)\n",
    "    print('Scraped:')\n",
    "    while n < total:\n",
    "        print(n)\n",
    "        df = df.append(json_normalize(r.json()['rows']))\n",
    "        n = len(df)\n",
    "        payload = {\n",
    "            'url':uri,\n",
    "            'offset':n}\n",
    "        r = requests.get('https://hypothes.is/api/search',params=payload)\n",
    "    print(n)\n",
    "    df['session'] = session\n",
    "    df['updated'] = pd.to_datetime(df['updated'])\n",
    "    df['created'] = pd.to_datetime(df['created'])\n",
    "    df = df.set_index(df['created'])\n",
    "    df.index = df.index.tz_localize('UTC').tz_convert('US/Mountain')\n",
    "    return df"
   ]
  }
 ],
 "metadata": {
  "anaconda-cloud": {},
  "kernelspec": {
   "display_name": "Python [conda root]",
   "language": "python",
   "name": "conda-root-py"
  },
  "language_info": {
   "codemirror_mode": {
    "name": "ipython",
    "version": 3
   },
   "file_extension": ".py",
   "mimetype": "text/x-python",
   "name": "python",
   "nbconvert_exporter": "python",
   "pygments_lexer": "ipython3",
   "version": "3.5.2"
  }
 },
 "nbformat": 4,
 "nbformat_minor": 1
}
