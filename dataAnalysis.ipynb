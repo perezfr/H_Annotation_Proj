{
 "cells": [
  {
   "cell_type": "code",
   "execution_count": 1,
   "metadata": {
    "collapsed": true
   },
   "outputs": [],
   "source": [
    "%matplotlib inline\n",
    "import pandas as pd\n",
    "import requests\n",
    "import numpy as np\n",
    "from pandas.io.json import json_normalize"
   ]
  },
  {
   "cell_type": "code",
   "execution_count": 2,
   "metadata": {
    "collapsed": false
   },
   "outputs": [],
   "source": [
    "##Dict of session:uri\n",
    "FMlinkList = {'August':'https://www.commonsense.org/education/privacy/blog/digital-redlining-access-privacy',\n",
    "        'September':'http://dmlcentral.net/speculative-design-for-emergent-learning-taking-risks/',\n",
    "        'October':'http://marginalsyllab.us/wp-content/uploads/2016/08/PWFlow-Intro.pdf',\n",
    "        'November':'https://helenbeetham.com/2016/11/14/ed-tech-and-the-circus-of-unreason/',\n",
    "        'January':'http://marginalsyllab.us/the-school-and-social-progress-by-john-dewey/',\n",
    "        'February':'http://marginalsyllab.us/preface-to-research-writing-rewired-lessons-that-ground-students-digital-learning-by-dawn-reed-and-troy-hicks/'}"
   ]
  },
  {
   "cell_type": "code",
   "execution_count": 70,
   "metadata": {
    "collapsed": true
   },
   "outputs": [
    {
     "name": "stdout",
     "output_type": "stream",
     "text": [
      "January\n",
      "http://marginalsyllab.us/the-school-and-social-progress-by-john-dewey/\n",
      "Number of Records Found:  242\n",
      "Scraped:\n",
      "0\n",
      "20\n",
      "40\n",
      "60\n",
      "80\n",
      "100\n",
      "120\n",
      "140\n",
      "160\n",
      "180\n",
      "200\n",
      "220\n",
      "240\n",
      "242\n",
      "August\n",
      "https://www.commonsense.org/education/privacy/blog/digital-redlining-access-privacy\n",
      "Number of Records Found:  186\n",
      "Scraped:\n",
      "0\n",
      "20\n",
      "40\n",
      "60\n",
      "80\n",
      "100\n",
      "120\n",
      "140\n",
      "160\n",
      "180\n",
      "186\n",
      "February\n",
      "http://marginalsyllab.us/preface-to-research-writing-rewired-lessons-that-ground-students-digital-learning-by-dawn-reed-and-troy-hicks/\n",
      "Number of Records Found:  121\n",
      "Scraped:\n",
      "0\n",
      "20\n",
      "40\n",
      "60\n",
      "80\n",
      "100\n",
      "120\n",
      "121\n",
      "September\n",
      "http://dmlcentral.net/speculative-design-for-emergent-learning-taking-risks/\n",
      "Number of Records Found:  87\n",
      "Scraped:\n",
      "0\n",
      "20\n",
      "40\n",
      "60\n",
      "80\n",
      "87\n",
      "November\n",
      "https://helenbeetham.com/2016/11/14/ed-tech-and-the-circus-of-unreason/\n",
      "Number of Records Found:  155\n",
      "Scraped:\n",
      "0\n",
      "20\n",
      "40\n",
      "60\n",
      "80\n",
      "100\n",
      "120\n",
      "140\n",
      "155\n",
      "October\n",
      "http://marginalsyllab.us/wp-content/uploads/2016/08/PWFlow-Intro.pdf\n",
      "Number of Records Found:  159\n",
      "Scraped:\n",
      "0\n",
      "20\n",
      "40\n",
      "60\n",
      "80\n",
      "100\n",
      "120\n",
      "140\n",
      "159\n"
     ]
    }
   ],
   "source": [
    "##Create empty dataFrame, and append data scraped from annotation api\n",
    "dfAll = pd.DataFrame(columns=['created', 'document.title', 'group', 'id', 'links.html',\n",
    "       'links.incontext', 'links.json', 'permissions.admin',\n",
    "       'permissions.delete', 'permissions.read', 'permissions.update',\n",
    "       'references', 'tags', 'target', 'text', 'updated', 'uri', 'user','session'])\n",
    "for session,link in FMlinkList.items():\n",
    "    df = scrapeAPI(session,link)\n",
    "    dfAll = dfAll.append(df)"
   ]
  },
  {
   "cell_type": "code",
   "execution_count": 73,
   "metadata": {
    "collapsed": true
   },
   "outputs": [],
   "source": [
    "dfAll.to_pickle('data/FM-Aug-Feb.pkl')"
   ]
  },
  {
   "cell_type": "code",
   "execution_count": 21,
   "metadata": {
    "collapsed": false
   },
   "outputs": [
    {
     "data": {
      "text/plain": [
       "<matplotlib.axes._subplots.AxesSubplot at 0x7f40a79c5240>"
      ]
     },
     "execution_count": 21,
     "metadata": {},
     "output_type": "execute_result"
    },
    {
     "data": {
      "image/png": "[encoded data removed]",
      "text/plain": [
       "<matplotlib.figure.Figure at 0x7f40a76ff1d0>"
      ]
     },
     "metadata": {},
     "output_type": "display_data"
    }
   ],
   "source": [
    "dfAll['2017-02'].groupby(pd.TimeGrouper('1D')).size().plot()"
   ]
  },
  {
   "cell_type": "code",
   "execution_count": 69,
   "metadata": {
    "collapsed": true
   },
   "outputs": [],
   "source": [
    "def scrapeAPI(session,uri):\n",
    "    n = 0\n",
    "    payload = {'url':uri}\n",
    "    r = requests.get('https://hypothes.is/api/search',params=payload)\n",
    "    df = pd.DataFrame(columns=['created', 'document.title', 'group', 'id', 'links.html',\n",
    "       'links.incontext', 'links.json', 'permissions.admin',\n",
    "       'permissions.delete', 'permissions.read', 'permissions.update',\n",
    "       'references', 'tags', 'target', 'text', 'updated', 'uri', 'user'])\n",
    "    total = r.json()['total']\n",
    "    print(session)\n",
    "    print(uri)\n",
    "    print('Number of Records Found: ',total)\n",
    "    print('Scraped:')\n",
    "    while n < total:\n",
    "        print(n)\n",
    "        df = df.append(json_normalize(r.json()['rows']))\n",
    "        n = len(df)\n",
    "        payload = {\n",
    "            'url':uri,\n",
    "            'offset':n}\n",
    "        r = requests.get('https://hypothes.is/api/search',params=payload)\n",
    "    print(n)\n",
    "    df['session'] = session\n",
    "    df['updated'] = pd.to_datetime(df['updated'])\n",
    "    df['created'] = pd.to_datetime(df['created'])\n",
    "    df = df.set_index(df['created'])\n",
    "    return df"
   ]
  }
 ],
 "metadata": {
  "anaconda-cloud": {},
  "kernelspec": {
   "display_name": "Python [conda root]",
   "language": "python",
   "name": "conda-root-py"
  },
  "language_info": {
   "codemirror_mode": {
    "name": "ipython",
    "version": 3
   },
   "file_extension": ".py",
   "mimetype": "text/x-python",
   "name": "python",
   "nbconvert_exporter": "python",
   "pygments_lexer": "ipython3",
   "version": "3.5.2"
  }
 },
 "nbformat": 4,
 "nbformat_minor": 1
}
