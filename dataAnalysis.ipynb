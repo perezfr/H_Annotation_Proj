{
 "cells": [
  {
   "cell_type": "code",
   "execution_count": 1,
   "metadata": {
    "collapsed": true
   },
   "outputs": [],
   "source": [
    "import pandas as pd\n",
    "import requests\n",
    "from pandas.io.json import json_normalize"
   ]
  },
  {
   "cell_type": "code",
   "execution_count": null,
   "metadata": {
    "collapsed": true
   },
   "outputs": [],
   "source": [
    "FMaug = 'https://www.commonsense.org/education/privacy/blog/digital-redlining-access-privacy'\n",
    "dfAug = scrapeAPI(FMaug)"
   ]
  },
  {
   "cell_type": "code",
   "execution_count": 2,
   "metadata": {
    "collapsed": true
   },
   "outputs": [],
   "source": [
    "def scrapeAPI(url):\n",
    "    n = 0\n",
    "    payload = {'url':url}\n",
    "    r = requests.get('https://hypothes.is/api/search',params=payload)\n",
    "    df = pd.DataFrame(columns=['created', 'document.title', 'group', 'id', 'links.html',\n",
    "       'links.incontext', 'links.json', 'permissions.admin',\n",
    "       'permissions.delete', 'permissions.read', 'permissions.update',\n",
    "       'references', 'tags', 'target', 'text', 'updated', 'uri', 'user'])\n",
    "    total = r.json()['total']\n",
    "    print('Number of Records Found: ',total)\n",
    "    print('Scraped:')\n",
    "    while n < total:\n",
    "        print(n)\n",
    "        df = df.append(json_normalize(r.json()['rows']))\n",
    "        n = len(df)\n",
    "        payload = {\n",
    "            'url':'https://www.commonsense.org/education/privacy/blog/digital-redlining-access-privacy',\n",
    "            'offset':n}\n",
    "        r = requests.get('https://hypothes.is/api/search',params=payload)\n",
    "    print(n)\n",
    "    df['DateTime'] = pd.to_datetime(df['created'])\n",
    "    df = df.set_index(pd.DatetimeIndex(df['DateTime']))"
   ]
  },
  {
   "cell_type": "code",
   "execution_count": 24,
   "metadata": {
    "collapsed": false
   },
   "outputs": [],
   "source": [
    "n = 0\n",
    "payload = {'url':\n",
    "           'https://www.commonsense.org/education/privacy/blog/digital-redlining-access-privacy'}\n",
    "r = requests.get('https://hypothes.is/api/search',params=payload)\n",
    "df = pd.DataFrame(columns=['created', 'document.title', 'group', 'id', 'links.html',\n",
    "       'links.incontext', 'links.json', 'permissions.admin',\n",
    "       'permissions.delete', 'permissions.read', 'permissions.update',\n",
    "       'references', 'tags', 'target', 'text', 'updated', 'uri', 'user'])\n",
    "total = r.json()['total']"
   ]
  },
  {
   "cell_type": "code",
   "execution_count": 25,
   "metadata": {
    "collapsed": true
   },
   "outputs": [
    {
     "name": "stdout",
     "output_type": "stream",
     "text": [
      "0\n",
      "20\n",
      "40\n",
      "60\n",
      "80\n",
      "100\n",
      "120\n",
      "140\n",
      "160\n",
      "180\n"
     ]
    }
   ],
   "source": [
    "while n < total:\n",
    "    print(n)\n",
    "    df = df.append(json_normalize(r.json()['rows']))\n",
    "    n = len(df)\n",
    "    payload = {\n",
    "        'url':'https://www.commonsense.org/education/privacy/blog/digital-redlining-access-privacy',\n",
    "        'offset':n}\n",
    "    r = requests.get('https://hypothes.is/api/search',params=payload)\n",
    "df['DateTime'] = pd.to_datetime(df['created'])\n",
    "df = df.set_index(pd.DatetimeIndex(df['DateTime']))"
   ]
  }
 ],
 "metadata": {
  "anaconda-cloud": {},
  "kernelspec": {
   "display_name": "Python [conda root]",
   "language": "python",
   "name": "conda-root-py"
  },
  "language_info": {
   "codemirror_mode": {
    "name": "ipython",
    "version": 3
   },
   "file_extension": ".py",
   "mimetype": "text/x-python",
   "name": "python",
   "nbconvert_exporter": "python",
   "pygments_lexer": "ipython3",
   "version": "3.5.2"
  }
 },
 "nbformat": 4,
 "nbformat_minor": 1
}
